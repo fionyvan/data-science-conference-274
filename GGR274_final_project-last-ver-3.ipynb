{
 "cells": [
  {
   "cell_type": "markdown",
   "metadata": {
    "slideshow": {
     "slide_type": "slide"
    }
   },
   "source": [
    "# An Analysis of the Correlative Relationship Between Household Income and Health\n",
    "\n",
    "## Team members:  Christina Tse, Fiony Van, Hayley Spenst, Kyle Jiang Yi\n",
    "\n",
    "### Tutorial: TUT0101\n",
    "\n",
    "### Group number: 4"
   ]
  },
  {
   "cell_type": "markdown",
   "metadata": {
    "hide_input": false,
    "slideshow": {
     "slide_type": "slide"
    }
   },
   "source": [
    "# Introduction\n",
    "This work focuses on the way that median household income associates with the rates of diabetes and high blood pressure, and mental health visit across Toronto neighbourhoods. \n",
    "\n",
    "The independent variable in this research is the median income of people in the community while the health conditions are the dependent variables. \n",
    "\n",
    "We used the data: Adult Health and Disease at Toronto Neighbourhoods in 2007 to conduct the analysis. Our research uses three different sections from it:\n",
    "- Diabetes, High Blood Pressure, and Mental Health Visit"
   ]
  },
  {
   "cell_type": "code",
   "execution_count": 1,
   "metadata": {
    "hide_input": false,
    "slideshow": {
     "slide_type": "skip"
    }
   },
   "outputs": [
    {
     "name": "stdout",
     "output_type": "stream",
     "text": [
      "Requirement already satisfied: xlrd in /Users/fionyvan/opt/miniconda3/envs/env/lib/python3.9/site-packages (2.0.1)\n",
      "Note: you may need to restart the kernel to use updated packages.\n"
     ]
    }
   ],
   "source": [
    "import pandas as pd\n",
    "import numpy as np\n",
    "import seaborn as sns\n",
    "import geopandas as gpd\n",
    "import matplotlib.pyplot as plt\n",
    "\n",
    "# %pip install xlrd\n",
    "\n",
    "from statsmodels.formula.api import ols"
   ]
  },
  {
   "cell_type": "markdown",
   "metadata": {
    "slideshow": {
     "slide_type": "slide"
    }
   },
   "source": [
    "## Data\n",
    "\n",
    "#### 'Adult Health and Disease’ Dataset from 2007\n",
    "- Diseases/health concerns of interest \n",
    "- High blood pressure\n",
    "- Mental health visits and diabetes\n",
    "\n",
    "#### ‘All Socio-demographic (Census)’ from 2006\n",
    "- Sociodemographic variables\n",
    "- Median household income\n",
    "- University education rates and Age"
   ]
  },
  {
   "cell_type": "markdown",
   "metadata": {
    "slideshow": {
     "slide_type": "slide"
    }
   },
   "source": [
    "# Methods\n",
    "To address our research question, we used the following methods:\n",
    "- Join on neighbourhood ID to connect the `socdem` and `ahd` datasets\n",
    "    - Only kept columns of interest: three sociodemographic variables and the rates of our three disease of interest\n",
    "- Create a new column that ranks each neighbourhood by income quintiles from 0-4 \n",
    "- Regression analysis to determine the relationship between the three sociodemographic variables and each disease\n",
    "- Group each variable by income quintile, take the mean - is there a relationship?"
   ]
  },
  {
   "cell_type": "code",
   "execution_count": 2,
   "metadata": {
    "hide_input": false,
    "slideshow": {
     "slide_type": "skip"
    }
   },
   "outputs": [
    {
     "data": {
      "text/html": [
       "<div>\n",
       "<style scoped>\n",
       "    .dataframe tbody tr th:only-of-type {\n",
       "        vertical-align: middle;\n",
       "    }\n",
       "\n",
       "    .dataframe tbody tr th {\n",
       "        vertical-align: top;\n",
       "    }\n",
       "\n",
       "    .dataframe thead th {\n",
       "        text-align: right;\n",
       "    }\n",
       "</style>\n",
       "<table border=\"1\" class=\"dataframe\">\n",
       "  <thead>\n",
       "    <tr style=\"text-align: right;\">\n",
       "      <th></th>\n",
       "      <th>Unnamed: 0</th>\n",
       "      <th>Unnamed: 1</th>\n",
       "      <th>Demographics ª</th>\n",
       "      <th>% With diabetes</th>\n",
       "      <th>LL (95% CI)</th>\n",
       "      <th>UL (95% CI)</th>\n",
       "      <th>Demographics ª.1</th>\n",
       "      <th>% With diabetes.1</th>\n",
       "      <th>LL (95% CI) .1</th>\n",
       "      <th>UL (95% CI) .1</th>\n",
       "      <th>...</th>\n",
       "      <th>Demographics ª.10</th>\n",
       "      <th>% With diabetes.10</th>\n",
       "      <th>LL (95% CI) .10</th>\n",
       "      <th>UL (95% CI) .10</th>\n",
       "      <th>Demographics ª.11</th>\n",
       "      <th>% With diabetes.11</th>\n",
       "      <th>LL (95% CI) .11</th>\n",
       "      <th>UL (95% CI) .11</th>\n",
       "      <th>Rate Ratio**.3</th>\n",
       "      <th>H/L/NS.3</th>\n",
       "    </tr>\n",
       "  </thead>\n",
       "  <tbody>\n",
       "    <tr>\n",
       "      <th>0</th>\n",
       "      <td>1</td>\n",
       "      <td>West Humber-Clairville</td>\n",
       "      <td>13984</td>\n",
       "      <td>15.2</td>\n",
       "      <td>14.6</td>\n",
       "      <td>15.8</td>\n",
       "      <td>14041</td>\n",
       "      <td>13.0</td>\n",
       "      <td>12.4</td>\n",
       "      <td>13.5</td>\n",
       "      <td>...</td>\n",
       "      <td>2271</td>\n",
       "      <td>30.3</td>\n",
       "      <td>28.4</td>\n",
       "      <td>32.2</td>\n",
       "      <td>4278</td>\n",
       "      <td>32.7</td>\n",
       "      <td>31.3</td>\n",
       "      <td>34.1</td>\n",
       "      <td>1.18</td>\n",
       "      <td>H</td>\n",
       "    </tr>\n",
       "    <tr>\n",
       "      <th>1</th>\n",
       "      <td>2</td>\n",
       "      <td>Mount Olive-Silverstone-Jamestown</td>\n",
       "      <td>12539</td>\n",
       "      <td>15.3</td>\n",
       "      <td>14.7</td>\n",
       "      <td>16.0</td>\n",
       "      <td>13024</td>\n",
       "      <td>14.6</td>\n",
       "      <td>14.0</td>\n",
       "      <td>15.2</td>\n",
       "      <td>...</td>\n",
       "      <td>1562</td>\n",
       "      <td>35.7</td>\n",
       "      <td>33.3</td>\n",
       "      <td>38.0</td>\n",
       "      <td>2944</td>\n",
       "      <td>35.5</td>\n",
       "      <td>33.7</td>\n",
       "      <td>37.2</td>\n",
       "      <td>1.28</td>\n",
       "      <td>H</td>\n",
       "    </tr>\n",
       "    <tr>\n",
       "      <th>2</th>\n",
       "      <td>3</td>\n",
       "      <td>Thistletown-Beaumond Heights</td>\n",
       "      <td>4113</td>\n",
       "      <td>12.6</td>\n",
       "      <td>11.6</td>\n",
       "      <td>13.5</td>\n",
       "      <td>4332</td>\n",
       "      <td>11.5</td>\n",
       "      <td>10.6</td>\n",
       "      <td>12.4</td>\n",
       "      <td>...</td>\n",
       "      <td>1010</td>\n",
       "      <td>26.9</td>\n",
       "      <td>24.2</td>\n",
       "      <td>29.7</td>\n",
       "      <td>1816</td>\n",
       "      <td>30.0</td>\n",
       "      <td>27.8</td>\n",
       "      <td>32.1</td>\n",
       "      <td>1.08</td>\n",
       "      <td>NS</td>\n",
       "    </tr>\n",
       "    <tr>\n",
       "      <th>3</th>\n",
       "      <td>4</td>\n",
       "      <td>Rexdale-Kipling</td>\n",
       "      <td>4142</td>\n",
       "      <td>12.5</td>\n",
       "      <td>11.6</td>\n",
       "      <td>13.4</td>\n",
       "      <td>4569</td>\n",
       "      <td>11.4</td>\n",
       "      <td>10.5</td>\n",
       "      <td>12.2</td>\n",
       "      <td>...</td>\n",
       "      <td>1131</td>\n",
       "      <td>26.0</td>\n",
       "      <td>23.4</td>\n",
       "      <td>28.6</td>\n",
       "      <td>1956</td>\n",
       "      <td>29.4</td>\n",
       "      <td>27.4</td>\n",
       "      <td>31.4</td>\n",
       "      <td>1.06</td>\n",
       "      <td>NS</td>\n",
       "    </tr>\n",
       "    <tr>\n",
       "      <th>4</th>\n",
       "      <td>5</td>\n",
       "      <td>Elms-Old Rexdale</td>\n",
       "      <td>3727</td>\n",
       "      <td>12.8</td>\n",
       "      <td>11.8</td>\n",
       "      <td>13.8</td>\n",
       "      <td>4066</td>\n",
       "      <td>12.5</td>\n",
       "      <td>11.5</td>\n",
       "      <td>13.5</td>\n",
       "      <td>...</td>\n",
       "      <td>687</td>\n",
       "      <td>28.2</td>\n",
       "      <td>24.9</td>\n",
       "      <td>31.6</td>\n",
       "      <td>1205</td>\n",
       "      <td>29.6</td>\n",
       "      <td>27.0</td>\n",
       "      <td>32.2</td>\n",
       "      <td>1.06</td>\n",
       "      <td>NS</td>\n",
       "    </tr>\n",
       "  </tbody>\n",
       "</table>\n",
       "<p>5 rows × 58 columns</p>\n",
       "</div>"
      ],
      "text/plain": [
       "   Unnamed: 0                         Unnamed: 1  Demographics ª  \\\n",
       "0           1             West Humber-Clairville           13984   \n",
       "1           2  Mount Olive-Silverstone-Jamestown           12539   \n",
       "2           3       Thistletown-Beaumond Heights            4113   \n",
       "3           4                    Rexdale-Kipling            4142   \n",
       "4           5                   Elms-Old Rexdale            3727   \n",
       "\n",
       "   % With diabetes  LL (95% CI)   UL (95% CI)   Demographics ª.1  \\\n",
       "0             15.2          14.6          15.8             14041   \n",
       "1             15.3          14.7          16.0             13024   \n",
       "2             12.6          11.6          13.5              4332   \n",
       "3             12.5          11.6          13.4              4569   \n",
       "4             12.8          11.8          13.8              4066   \n",
       "\n",
       "   % With diabetes.1  LL (95% CI) .1  UL (95% CI) .1  ...  Demographics ª.10  \\\n",
       "0               13.0            12.4            13.5  ...               2271   \n",
       "1               14.6            14.0            15.2  ...               1562   \n",
       "2               11.5            10.6            12.4  ...               1010   \n",
       "3               11.4            10.5            12.2  ...               1131   \n",
       "4               12.5            11.5            13.5  ...                687   \n",
       "\n",
       "   % With diabetes.10  LL (95% CI) .10  UL (95% CI) .10  Demographics ª.11  \\\n",
       "0                30.3             28.4             32.2               4278   \n",
       "1                35.7             33.3             38.0               2944   \n",
       "2                26.9             24.2             29.7               1816   \n",
       "3                26.0             23.4             28.6               1956   \n",
       "4                28.2             24.9             31.6               1205   \n",
       "\n",
       "  % With diabetes.11  LL (95% CI) .11 UL (95% CI) .11  Rate Ratio**.3  \\\n",
       "0               32.7             31.3            34.1            1.18   \n",
       "1               35.5             33.7            37.2            1.28   \n",
       "2               30.0             27.8            32.1            1.08   \n",
       "3               29.4             27.4            31.4            1.06   \n",
       "4               29.6             27.0            32.2            1.06   \n",
       "\n",
       "   H/L/NS.3  \n",
       "0         H  \n",
       "1         H  \n",
       "2        NS  \n",
       "3        NS  \n",
       "4        NS  \n",
       "\n",
       "[5 rows x 58 columns]"
      ]
     },
     "execution_count": 2,
     "metadata": {},
     "output_type": "execute_result"
    }
   ],
   "source": [
    "diabetes_neighb = pd.read_excel(\"1_ahd_neighb_db_ast_hbp_mhv_copd_2007.xls\", sheet_name=\"1_ahd_neighb_diabetes_2007\", header = 12)\n",
    "diabetes_neighb.head()"
   ]
  },
  {
   "cell_type": "code",
   "execution_count": 3,
   "metadata": {
    "slideshow": {
     "slide_type": "skip"
    }
   },
   "outputs": [
    {
     "data": {
      "text/plain": [
       "Index(['Unnamed: 0', 'Unnamed: 1', 'Demographics ª', '% With diabetes',\n",
       "       'LL (95% CI) ', 'UL (95% CI) ', 'Demographics ª.1', '% With diabetes.1',\n",
       "       'LL (95% CI) .1', 'UL (95% CI) .1', 'Demographics ª.2',\n",
       "       '% With diabetes.2', 'LL (95% CI) .2', 'UL (95% CI) .2', 'Rate Ratio**',\n",
       "       'H/L/NS', 'Demographics ª.3', '% With diabetes.3', 'LL (95% CI) .3',\n",
       "       'UL (95% CI) .3', 'Demographics ª.4', '% With diabetes.4',\n",
       "       'LL (95% CI) .4', 'UL (95% CI) .4', 'Demographics ª.5',\n",
       "       '% With diabetes.5', 'LL (95% CI) .5', 'UL (95% CI) .5',\n",
       "       'Rate Ratio**.1', 'H/L/NS.1', 'Demographics ª.6', '% With diabetes.6',\n",
       "       'LL (95% CI) .6', 'UL (95% CI) .6', 'Demographics ª.7',\n",
       "       '% With diabetes.7', 'LL (95% CI) .7', 'UL (95% CI) .7',\n",
       "       'Demographics ª.8', '% With diabetes.8', 'LL (95% CI) .8',\n",
       "       'UL (95% CI) .8', 'Rate Ratio**.2', 'H/L/NS.2', 'Demographics ª.9',\n",
       "       '% With diabetes.9', 'LL (95% CI) .9', 'UL (95% CI) .9',\n",
       "       'Demographics ª.10', '% With diabetes.10', 'LL (95% CI) .10',\n",
       "       'UL (95% CI) .10', 'Demographics ª.11', '% With diabetes.11',\n",
       "       'LL (95% CI) .11', 'UL (95% CI) .11', 'Rate Ratio**.3', 'H/L/NS.3'],\n",
       "      dtype='object')"
      ]
     },
     "execution_count": 3,
     "metadata": {},
     "output_type": "execute_result"
    }
   ],
   "source": [
    "diabetes_neighb.columns"
   ]
  },
  {
   "cell_type": "code",
   "execution_count": 4,
   "metadata": {
    "slideshow": {
     "slide_type": "skip"
    }
   },
   "outputs": [
    {
     "data": {
      "text/html": [
       "<div>\n",
       "<style scoped>\n",
       "    .dataframe tbody tr th:only-of-type {\n",
       "        vertical-align: middle;\n",
       "    }\n",
       "\n",
       "    .dataframe tbody tr th {\n",
       "        vertical-align: top;\n",
       "    }\n",
       "\n",
       "    .dataframe thead th {\n",
       "        text-align: right;\n",
       "    }\n",
       "</style>\n",
       "<table border=\"1\" class=\"dataframe\">\n",
       "  <thead>\n",
       "    <tr style=\"text-align: right;\">\n",
       "      <th></th>\n",
       "      <th>Unnamed: 0</th>\n",
       "      <th>Unnamed: 1</th>\n",
       "      <th>% With diabetes.2</th>\n",
       "    </tr>\n",
       "  </thead>\n",
       "  <tbody>\n",
       "    <tr>\n",
       "      <th>0</th>\n",
       "      <td>1</td>\n",
       "      <td>West Humber-Clairville</td>\n",
       "      <td>14.0</td>\n",
       "    </tr>\n",
       "    <tr>\n",
       "      <th>1</th>\n",
       "      <td>2</td>\n",
       "      <td>Mount Olive-Silverstone-Jamestown</td>\n",
       "      <td>14.9</td>\n",
       "    </tr>\n",
       "    <tr>\n",
       "      <th>2</th>\n",
       "      <td>3</td>\n",
       "      <td>Thistletown-Beaumond Heights</td>\n",
       "      <td>12.0</td>\n",
       "    </tr>\n",
       "    <tr>\n",
       "      <th>3</th>\n",
       "      <td>4</td>\n",
       "      <td>Rexdale-Kipling</td>\n",
       "      <td>11.9</td>\n",
       "    </tr>\n",
       "    <tr>\n",
       "      <th>4</th>\n",
       "      <td>5</td>\n",
       "      <td>Elms-Old Rexdale</td>\n",
       "      <td>12.7</td>\n",
       "    </tr>\n",
       "    <tr>\n",
       "      <th>...</th>\n",
       "      <td>...</td>\n",
       "      <td>...</td>\n",
       "      <td>...</td>\n",
       "    </tr>\n",
       "    <tr>\n",
       "      <th>135</th>\n",
       "      <td>136</td>\n",
       "      <td>West Hill</td>\n",
       "      <td>13.3</td>\n",
       "    </tr>\n",
       "    <tr>\n",
       "      <th>136</th>\n",
       "      <td>137</td>\n",
       "      <td>Woburn</td>\n",
       "      <td>13.6</td>\n",
       "    </tr>\n",
       "    <tr>\n",
       "      <th>137</th>\n",
       "      <td>138</td>\n",
       "      <td>Eglinton East</td>\n",
       "      <td>14.6</td>\n",
       "    </tr>\n",
       "    <tr>\n",
       "      <th>138</th>\n",
       "      <td>139</td>\n",
       "      <td>Scarborough Village</td>\n",
       "      <td>14.6</td>\n",
       "    </tr>\n",
       "    <tr>\n",
       "      <th>139</th>\n",
       "      <td>140</td>\n",
       "      <td>Guildwood</td>\n",
       "      <td>8.7</td>\n",
       "    </tr>\n",
       "  </tbody>\n",
       "</table>\n",
       "<p>140 rows × 3 columns</p>\n",
       "</div>"
      ],
      "text/plain": [
       "     Unnamed: 0                         Unnamed: 1  % With diabetes.2\n",
       "0             1             West Humber-Clairville               14.0\n",
       "1             2  Mount Olive-Silverstone-Jamestown               14.9\n",
       "2             3       Thistletown-Beaumond Heights               12.0\n",
       "3             4                    Rexdale-Kipling               11.9\n",
       "4             5                   Elms-Old Rexdale               12.7\n",
       "..          ...                                ...                ...\n",
       "135         136                          West Hill               13.3\n",
       "136         137                             Woburn               13.6\n",
       "137         138                      Eglinton East               14.6\n",
       "138         139                Scarborough Village               14.6\n",
       "139         140                          Guildwood                8.7\n",
       "\n",
       "[140 rows x 3 columns]"
      ]
     },
     "execution_count": 4,
     "metadata": {},
     "output_type": "execute_result"
    }
   ],
   "source": [
    "diabetes_rates = diabetes_neighb.iloc[:, [0, 1, 11]]\n",
    "diabetes_rates"
   ]
  },
  {
   "cell_type": "code",
   "execution_count": 5,
   "metadata": {
    "slideshow": {
     "slide_type": "skip"
    }
   },
   "outputs": [
    {
     "data": {
      "text/plain": [
       "Index(['Unnamed: 0', 'Unnamed: 1', '% With diabetes.2'], dtype='object')"
      ]
     },
     "execution_count": 5,
     "metadata": {},
     "output_type": "execute_result"
    }
   ],
   "source": [
    "diabetes_cols = diabetes_rates.columns\n",
    "diabetes_cols"
   ]
  },
  {
   "cell_type": "code",
   "execution_count": 6,
   "metadata": {
    "hide_input": true,
    "slideshow": {
     "slide_type": "skip"
    }
   },
   "outputs": [
    {
     "name": "stderr",
     "output_type": "stream",
     "text": [
      "/Users/fionyvan/opt/miniconda3/envs/env/lib/python3.9/site-packages/pandas/core/frame.py:4438: SettingWithCopyWarning: \n",
      "A value is trying to be set on a copy of a slice from a DataFrame\n",
      "\n",
      "See the caveats in the documentation: https://pandas.pydata.org/pandas-docs/stable/user_guide/indexing.html#returning-a-view-versus-a-copy\n",
      "  return super().rename(\n"
     ]
    },
    {
     "data": {
      "text/html": [
       "<div>\n",
       "<style scoped>\n",
       "    .dataframe tbody tr th:only-of-type {\n",
       "        vertical-align: middle;\n",
       "    }\n",
       "\n",
       "    .dataframe tbody tr th {\n",
       "        vertical-align: top;\n",
       "    }\n",
       "\n",
       "    .dataframe thead th {\n",
       "        text-align: right;\n",
       "    }\n",
       "</style>\n",
       "<table border=\"1\" class=\"dataframe\">\n",
       "  <thead>\n",
       "    <tr style=\"text-align: right;\">\n",
       "      <th></th>\n",
       "      <th>NeighID</th>\n",
       "      <th>Name</th>\n",
       "      <th>diabetes_pct</th>\n",
       "    </tr>\n",
       "  </thead>\n",
       "  <tbody>\n",
       "    <tr>\n",
       "      <th>0</th>\n",
       "      <td>1</td>\n",
       "      <td>West Humber-Clairville</td>\n",
       "      <td>14.0</td>\n",
       "    </tr>\n",
       "    <tr>\n",
       "      <th>1</th>\n",
       "      <td>2</td>\n",
       "      <td>Mount Olive-Silverstone-Jamestown</td>\n",
       "      <td>14.9</td>\n",
       "    </tr>\n",
       "    <tr>\n",
       "      <th>2</th>\n",
       "      <td>3</td>\n",
       "      <td>Thistletown-Beaumond Heights</td>\n",
       "      <td>12.0</td>\n",
       "    </tr>\n",
       "    <tr>\n",
       "      <th>3</th>\n",
       "      <td>4</td>\n",
       "      <td>Rexdale-Kipling</td>\n",
       "      <td>11.9</td>\n",
       "    </tr>\n",
       "    <tr>\n",
       "      <th>4</th>\n",
       "      <td>5</td>\n",
       "      <td>Elms-Old Rexdale</td>\n",
       "      <td>12.7</td>\n",
       "    </tr>\n",
       "  </tbody>\n",
       "</table>\n",
       "</div>"
      ],
      "text/plain": [
       "   NeighID                               Name  diabetes_pct\n",
       "0        1             West Humber-Clairville          14.0\n",
       "1        2  Mount Olive-Silverstone-Jamestown          14.9\n",
       "2        3       Thistletown-Beaumond Heights          12.0\n",
       "3        4                    Rexdale-Kipling          11.9\n",
       "4        5                   Elms-Old Rexdale          12.7"
      ]
     },
     "execution_count": 6,
     "metadata": {},
     "output_type": "execute_result"
    }
   ],
   "source": [
    "diabetes_col_names = {diabetes_cols[0] : 'NeighID',\n",
    "                    diabetes_cols[1] : 'Name',\n",
    "                    diabetes_cols[2] : 'diabetes_pct'}\n",
    "\n",
    "diabetes_rates.rename(columns=diabetes_col_names, inplace=True)\n",
    "diabetes_rates.head()"
   ]
  },
  {
   "cell_type": "markdown",
   "metadata": {
    "slideshow": {
     "slide_type": "skip"
    }
   },
   "source": [
    "### Socdem neighbourhood df"
   ]
  },
  {
   "cell_type": "code",
   "execution_count": 7,
   "metadata": {
    "slideshow": {
     "slide_type": "skip"
    }
   },
   "outputs": [
    {
     "data": {
      "text/html": [
       "<div>\n",
       "<style scoped>\n",
       "    .dataframe tbody tr th:only-of-type {\n",
       "        vertical-align: middle;\n",
       "    }\n",
       "\n",
       "    .dataframe tbody tr th {\n",
       "        vertical-align: top;\n",
       "    }\n",
       "\n",
       "    .dataframe thead th {\n",
       "        text-align: right;\n",
       "    }\n",
       "</style>\n",
       "<table border=\"1\" class=\"dataframe\">\n",
       "  <thead>\n",
       "    <tr style=\"text-align: right;\">\n",
       "      <th></th>\n",
       "      <th>Neighbourhood id</th>\n",
       "      <th>Neighbourhood Name</th>\n",
       "      <th>Total Population</th>\n",
       "      <th>% 19 and under</th>\n",
       "      <th>% 65 and over</th>\n",
       "      <th>% Living alone</th>\n",
       "      <th>% Aged 65+ living alone</th>\n",
       "      <th>% Lone parent families §</th>\n",
       "      <th>% 1 year mobility in population</th>\n",
       "      <th>Median household income before-tax $</th>\n",
       "      <th>...</th>\n",
       "      <th>% Less than high school education **</th>\n",
       "      <th>% With a University degree **</th>\n",
       "      <th>% No knowledge of English/French</th>\n",
       "      <th>% Recent immigrants-within 5 years</th>\n",
       "      <th>% Recent immigrants-within 10 years</th>\n",
       "      <th>% Immigrants</th>\n",
       "      <th>% Visible minority</th>\n",
       "      <th>Top 3 Home Languages for non-English speaking households, #1</th>\n",
       "      <th>Top 3 Home Languages for non-English speaking households, #2</th>\n",
       "      <th>Top 3 Home Languages for non-English speaking households, #3</th>\n",
       "    </tr>\n",
       "  </thead>\n",
       "  <tbody>\n",
       "    <tr>\n",
       "      <th>0</th>\n",
       "      <td>1</td>\n",
       "      <td>West Humber-Clairville</td>\n",
       "      <td>32252</td>\n",
       "      <td>26.8</td>\n",
       "      <td>11.3</td>\n",
       "      <td>3.7</td>\n",
       "      <td>11.7</td>\n",
       "      <td>26.3</td>\n",
       "      <td>11.6</td>\n",
       "      <td>63413</td>\n",
       "      <td>...</td>\n",
       "      <td>18.4</td>\n",
       "      <td>22.9</td>\n",
       "      <td>5.4</td>\n",
       "      <td>12.2</td>\n",
       "      <td>22.1</td>\n",
       "      <td>60.0</td>\n",
       "      <td>77.9</td>\n",
       "      <td>Panjabi (Punjabi)</td>\n",
       "      <td>Gujarati</td>\n",
       "      <td>Spanish</td>\n",
       "    </tr>\n",
       "    <tr>\n",
       "      <th>1</th>\n",
       "      <td>2</td>\n",
       "      <td>Mount Olive-Silverstone-Jamestown</td>\n",
       "      <td>32127</td>\n",
       "      <td>32.2</td>\n",
       "      <td>8.1</td>\n",
       "      <td>4.1</td>\n",
       "      <td>15.4</td>\n",
       "      <td>31.5</td>\n",
       "      <td>15.7</td>\n",
       "      <td>48146</td>\n",
       "      <td>...</td>\n",
       "      <td>20.1</td>\n",
       "      <td>23.6</td>\n",
       "      <td>7.6</td>\n",
       "      <td>22.2</td>\n",
       "      <td>35.1</td>\n",
       "      <td>67.1</td>\n",
       "      <td>85.3</td>\n",
       "      <td>Panjabi (Punjabi)</td>\n",
       "      <td>Gujarati</td>\n",
       "      <td>Arabic</td>\n",
       "    </tr>\n",
       "    <tr>\n",
       "      <th>2</th>\n",
       "      <td>3</td>\n",
       "      <td>Thistletown-Beaumond Heights</td>\n",
       "      <td>9928</td>\n",
       "      <td>25.3</td>\n",
       "      <td>16.7</td>\n",
       "      <td>5.4</td>\n",
       "      <td>17.5</td>\n",
       "      <td>30.1</td>\n",
       "      <td>10.9</td>\n",
       "      <td>55032</td>\n",
       "      <td>...</td>\n",
       "      <td>16.7</td>\n",
       "      <td>20.7</td>\n",
       "      <td>5.0</td>\n",
       "      <td>9.7</td>\n",
       "      <td>19.3</td>\n",
       "      <td>55.9</td>\n",
       "      <td>53.8</td>\n",
       "      <td>Panjabi (Punjabi)</td>\n",
       "      <td>Italian</td>\n",
       "      <td>Spanish</td>\n",
       "    </tr>\n",
       "    <tr>\n",
       "      <th>3</th>\n",
       "      <td>4</td>\n",
       "      <td>Rexdale-Kipling</td>\n",
       "      <td>10725</td>\n",
       "      <td>23.6</td>\n",
       "      <td>18.3</td>\n",
       "      <td>10.2</td>\n",
       "      <td>28.8</td>\n",
       "      <td>33.3</td>\n",
       "      <td>13.2</td>\n",
       "      <td>52428</td>\n",
       "      <td>...</td>\n",
       "      <td>15.3</td>\n",
       "      <td>18.8</td>\n",
       "      <td>3.0</td>\n",
       "      <td>8.3</td>\n",
       "      <td>14.0</td>\n",
       "      <td>47.2</td>\n",
       "      <td>41.8</td>\n",
       "      <td>Spanish</td>\n",
       "      <td>Panjabi (Punjabi)</td>\n",
       "      <td>Croatian</td>\n",
       "    </tr>\n",
       "    <tr>\n",
       "      <th>4</th>\n",
       "      <td>5</td>\n",
       "      <td>Elms-Old Rexdale</td>\n",
       "      <td>9437</td>\n",
       "      <td>29.9</td>\n",
       "      <td>10.5</td>\n",
       "      <td>5.8</td>\n",
       "      <td>13.0</td>\n",
       "      <td>39.1</td>\n",
       "      <td>9.7</td>\n",
       "      <td>53779</td>\n",
       "      <td>...</td>\n",
       "      <td>15.2</td>\n",
       "      <td>18.8</td>\n",
       "      <td>3.6</td>\n",
       "      <td>9.8</td>\n",
       "      <td>18.2</td>\n",
       "      <td>53.8</td>\n",
       "      <td>60.5</td>\n",
       "      <td>Spanish</td>\n",
       "      <td>Italian</td>\n",
       "      <td>Urdu</td>\n",
       "    </tr>\n",
       "  </tbody>\n",
       "</table>\n",
       "<p>5 rows × 28 columns</p>\n",
       "</div>"
      ],
      "text/plain": [
       "   Neighbourhood id                 Neighbourhood Name  Total Population  \\\n",
       "0                 1             West Humber-Clairville             32252   \n",
       "1                 2  Mount Olive-Silverstone-Jamestown             32127   \n",
       "2                 3       Thistletown-Beaumond Heights              9928   \n",
       "3                 4                    Rexdale-Kipling             10725   \n",
       "4                 5                   Elms-Old Rexdale              9437   \n",
       "\n",
       "   % 19 and under  % 65 and over  % Living alone  % Aged 65+ living alone  \\\n",
       "0            26.8           11.3             3.7                     11.7   \n",
       "1            32.2            8.1             4.1                     15.4   \n",
       "2            25.3           16.7             5.4                     17.5   \n",
       "3            23.6           18.3            10.2                     28.8   \n",
       "4            29.9           10.5             5.8                     13.0   \n",
       "\n",
       "   % Lone parent families §  % 1 year mobility in population  \\\n",
       "0                      26.3                             11.6   \n",
       "1                      31.5                             15.7   \n",
       "2                      30.1                             10.9   \n",
       "3                      33.3                             13.2   \n",
       "4                      39.1                              9.7   \n",
       "\n",
       "   Median household income before-tax $  ...  \\\n",
       "0                                 63413  ...   \n",
       "1                                 48146  ...   \n",
       "2                                 55032  ...   \n",
       "3                                 52428  ...   \n",
       "4                                 53779  ...   \n",
       "\n",
       "   % Less than high school education **  % With a University degree **  \\\n",
       "0                                  18.4                           22.9   \n",
       "1                                  20.1                           23.6   \n",
       "2                                  16.7                           20.7   \n",
       "3                                  15.3                           18.8   \n",
       "4                                  15.2                           18.8   \n",
       "\n",
       "   % No knowledge of English/French  % Recent immigrants-within 5 years  \\\n",
       "0                               5.4                                12.2   \n",
       "1                               7.6                                22.2   \n",
       "2                               5.0                                 9.7   \n",
       "3                               3.0                                 8.3   \n",
       "4                               3.6                                 9.8   \n",
       "\n",
       "   % Recent immigrants-within 10 years  % Immigrants  % Visible minority  \\\n",
       "0                                 22.1          60.0                77.9   \n",
       "1                                 35.1          67.1                85.3   \n",
       "2                                 19.3          55.9                53.8   \n",
       "3                                 14.0          47.2                41.8   \n",
       "4                                 18.2          53.8                60.5   \n",
       "\n",
       "   Top 3 Home Languages for non-English speaking households, #1  \\\n",
       "0                                  Panjabi (Punjabi)              \n",
       "1                                  Panjabi (Punjabi)              \n",
       "2                                  Panjabi (Punjabi)              \n",
       "3                                            Spanish              \n",
       "4                                            Spanish              \n",
       "\n",
       "   Top 3 Home Languages for non-English speaking households, #2  \\\n",
       "0                                           Gujarati              \n",
       "1                                           Gujarati              \n",
       "2                                            Italian              \n",
       "3                                  Panjabi (Punjabi)              \n",
       "4                                            Italian              \n",
       "\n",
       "   Top 3 Home Languages for non-English speaking households, #3  \n",
       "0                                            Spanish             \n",
       "1                                             Arabic             \n",
       "2                                            Spanish             \n",
       "3                                           Croatian             \n",
       "4                                               Urdu             \n",
       "\n",
       "[5 rows x 28 columns]"
      ]
     },
     "execution_count": 7,
     "metadata": {},
     "output_type": "execute_result"
    }
   ],
   "source": [
    "fname = '1_socdem_neighb_2006-2.xls'\n",
    "sname = 'socdem_2006'\n",
    "\n",
    "socdem_neighb = pd.read_excel(fname, sheet_name = sname, header = 10)\n",
    "socdem_neighb.head()"
   ]
  },
  {
   "cell_type": "code",
   "execution_count": 8,
   "metadata": {
    "slideshow": {
     "slide_type": "skip"
    }
   },
   "outputs": [
    {
     "data": {
      "text/plain": [
       "Index(['Neighbourhood id', 'Neighbourhood Name', 'Total Population',\n",
       "       '% 19 and under', '% 65 and over', '% Living alone',\n",
       "       '% Aged 65+ living alone', '% Lone parent families §',\n",
       "       '% 1 year mobility in population',\n",
       "       'Median household income before-tax $',\n",
       "       'Median household income after-tax $ ‡',\n",
       "       '% Families-Incidence of low income before-tax',\n",
       "       '% Families-Incidence of low income after-tax ‡',\n",
       "       '% Individuals-Incidence of low income before-tax',\n",
       "       '% Individuals-Incidence of low income after-tax ‡',\n",
       "       '% Rented Dwellings', '% Unemployment rate *',\n",
       "       '% Not in labour force *', '% Less than high school education **',\n",
       "       '% With a University degree **', '% No knowledge of English/French',\n",
       "       '% Recent immigrants-within 5 years',\n",
       "       '% Recent immigrants-within 10 years', '% Immigrants',\n",
       "       '% Visible minority',\n",
       "       'Top 3 Home Languages for non-English speaking households, #1',\n",
       "       'Top 3 Home Languages for non-English speaking households, #2',\n",
       "       'Top 3 Home Languages for non-English speaking households, #3'],\n",
       "      dtype='object')"
      ]
     },
     "execution_count": 8,
     "metadata": {},
     "output_type": "execute_result"
    }
   ],
   "source": [
    "socdem_neighb.columns"
   ]
  },
  {
   "cell_type": "code",
   "execution_count": 9,
   "metadata": {
    "slideshow": {
     "slide_type": "skip"
    }
   },
   "outputs": [
    {
     "data": {
      "text/html": [
       "<div>\n",
       "<style scoped>\n",
       "    .dataframe tbody tr th:only-of-type {\n",
       "        vertical-align: middle;\n",
       "    }\n",
       "\n",
       "    .dataframe tbody tr th {\n",
       "        vertical-align: top;\n",
       "    }\n",
       "\n",
       "    .dataframe thead th {\n",
       "        text-align: right;\n",
       "    }\n",
       "</style>\n",
       "<table border=\"1\" class=\"dataframe\">\n",
       "  <thead>\n",
       "    <tr style=\"text-align: right;\">\n",
       "      <th></th>\n",
       "      <th>Neighbourhood id</th>\n",
       "      <th>Neighbourhood Name</th>\n",
       "      <th>Median household income before-tax $</th>\n",
       "      <th>% With a University degree **</th>\n",
       "      <th>% 65 and over</th>\n",
       "    </tr>\n",
       "  </thead>\n",
       "  <tbody>\n",
       "    <tr>\n",
       "      <th>0</th>\n",
       "      <td>1</td>\n",
       "      <td>West Humber-Clairville</td>\n",
       "      <td>63413</td>\n",
       "      <td>22.9</td>\n",
       "      <td>11.3</td>\n",
       "    </tr>\n",
       "    <tr>\n",
       "      <th>1</th>\n",
       "      <td>2</td>\n",
       "      <td>Mount Olive-Silverstone-Jamestown</td>\n",
       "      <td>48146</td>\n",
       "      <td>23.6</td>\n",
       "      <td>8.1</td>\n",
       "    </tr>\n",
       "    <tr>\n",
       "      <th>2</th>\n",
       "      <td>3</td>\n",
       "      <td>Thistletown-Beaumond Heights</td>\n",
       "      <td>55032</td>\n",
       "      <td>20.7</td>\n",
       "      <td>16.7</td>\n",
       "    </tr>\n",
       "    <tr>\n",
       "      <th>3</th>\n",
       "      <td>4</td>\n",
       "      <td>Rexdale-Kipling</td>\n",
       "      <td>52428</td>\n",
       "      <td>18.8</td>\n",
       "      <td>18.3</td>\n",
       "    </tr>\n",
       "    <tr>\n",
       "      <th>4</th>\n",
       "      <td>5</td>\n",
       "      <td>Elms-Old Rexdale</td>\n",
       "      <td>53779</td>\n",
       "      <td>18.8</td>\n",
       "      <td>10.5</td>\n",
       "    </tr>\n",
       "    <tr>\n",
       "      <th>...</th>\n",
       "      <td>...</td>\n",
       "      <td>...</td>\n",
       "      <td>...</td>\n",
       "      <td>...</td>\n",
       "      <td>...</td>\n",
       "    </tr>\n",
       "    <tr>\n",
       "      <th>135</th>\n",
       "      <td>136</td>\n",
       "      <td>West Hill</td>\n",
       "      <td>46739</td>\n",
       "      <td>17.9</td>\n",
       "      <td>13.1</td>\n",
       "    </tr>\n",
       "    <tr>\n",
       "      <th>136</th>\n",
       "      <td>137</td>\n",
       "      <td>Woburn</td>\n",
       "      <td>49306</td>\n",
       "      <td>28.7</td>\n",
       "      <td>13.8</td>\n",
       "    </tr>\n",
       "    <tr>\n",
       "      <th>137</th>\n",
       "      <td>138</td>\n",
       "      <td>Eglinton East</td>\n",
       "      <td>43934</td>\n",
       "      <td>22.6</td>\n",
       "      <td>12.8</td>\n",
       "    </tr>\n",
       "    <tr>\n",
       "      <th>138</th>\n",
       "      <td>139</td>\n",
       "      <td>Scarborough Village</td>\n",
       "      <td>42417</td>\n",
       "      <td>22.7</td>\n",
       "      <td>13.5</td>\n",
       "    </tr>\n",
       "    <tr>\n",
       "      <th>139</th>\n",
       "      <td>140</td>\n",
       "      <td>Guildwood</td>\n",
       "      <td>75023</td>\n",
       "      <td>31.9</td>\n",
       "      <td>23.8</td>\n",
       "    </tr>\n",
       "  </tbody>\n",
       "</table>\n",
       "<p>140 rows × 5 columns</p>\n",
       "</div>"
      ],
      "text/plain": [
       "     Neighbourhood id                 Neighbourhood Name  \\\n",
       "0                   1             West Humber-Clairville   \n",
       "1                   2  Mount Olive-Silverstone-Jamestown   \n",
       "2                   3       Thistletown-Beaumond Heights   \n",
       "3                   4                    Rexdale-Kipling   \n",
       "4                   5                   Elms-Old Rexdale   \n",
       "..                ...                                ...   \n",
       "135               136                          West Hill   \n",
       "136               137                             Woburn   \n",
       "137               138                      Eglinton East   \n",
       "138               139                Scarborough Village   \n",
       "139               140                          Guildwood   \n",
       "\n",
       "     Median household income before-tax $  % With a University degree **  \\\n",
       "0                                   63413                           22.9   \n",
       "1                                   48146                           23.6   \n",
       "2                                   55032                           20.7   \n",
       "3                                   52428                           18.8   \n",
       "4                                   53779                           18.8   \n",
       "..                                    ...                            ...   \n",
       "135                                 46739                           17.9   \n",
       "136                                 49306                           28.7   \n",
       "137                                 43934                           22.6   \n",
       "138                                 42417                           22.7   \n",
       "139                                 75023                           31.9   \n",
       "\n",
       "     % 65 and over  \n",
       "0             11.3  \n",
       "1              8.1  \n",
       "2             16.7  \n",
       "3             18.3  \n",
       "4             10.5  \n",
       "..             ...  \n",
       "135           13.1  \n",
       "136           13.8  \n",
       "137           12.8  \n",
       "138           13.5  \n",
       "139           23.8  \n",
       "\n",
       "[140 rows x 5 columns]"
      ]
     },
     "execution_count": 9,
     "metadata": {},
     "output_type": "execute_result"
    }
   ],
   "source": [
    "socdem_cols = ['Neighbourhood id', 'Neighbourhood Name', 'Median household income before-tax $', '% With a University degree **', '% 65 and over']\n",
    "\n",
    "socdem_neighb = socdem_neighb[socdem_cols]\n",
    "socdem_neighb"
   ]
  },
  {
   "cell_type": "code",
   "execution_count": 10,
   "metadata": {
    "hide_input": true,
    "slideshow": {
     "slide_type": "skip"
    }
   },
   "outputs": [
    {
     "data": {
      "text/html": [
       "<div>\n",
       "<style scoped>\n",
       "    .dataframe tbody tr th:only-of-type {\n",
       "        vertical-align: middle;\n",
       "    }\n",
       "\n",
       "    .dataframe tbody tr th {\n",
       "        vertical-align: top;\n",
       "    }\n",
       "\n",
       "    .dataframe thead th {\n",
       "        text-align: right;\n",
       "    }\n",
       "</style>\n",
       "<table border=\"1\" class=\"dataframe\">\n",
       "  <thead>\n",
       "    <tr style=\"text-align: right;\">\n",
       "      <th></th>\n",
       "      <th>NeighID</th>\n",
       "      <th>Neigh Name</th>\n",
       "      <th>median_income</th>\n",
       "      <th>uni_degree</th>\n",
       "      <th>age_65_over</th>\n",
       "    </tr>\n",
       "  </thead>\n",
       "  <tbody>\n",
       "    <tr>\n",
       "      <th>0</th>\n",
       "      <td>1</td>\n",
       "      <td>West Humber-Clairville</td>\n",
       "      <td>63413</td>\n",
       "      <td>22.9</td>\n",
       "      <td>11.3</td>\n",
       "    </tr>\n",
       "    <tr>\n",
       "      <th>1</th>\n",
       "      <td>2</td>\n",
       "      <td>Mount Olive-Silverstone-Jamestown</td>\n",
       "      <td>48146</td>\n",
       "      <td>23.6</td>\n",
       "      <td>8.1</td>\n",
       "    </tr>\n",
       "    <tr>\n",
       "      <th>2</th>\n",
       "      <td>3</td>\n",
       "      <td>Thistletown-Beaumond Heights</td>\n",
       "      <td>55032</td>\n",
       "      <td>20.7</td>\n",
       "      <td>16.7</td>\n",
       "    </tr>\n",
       "    <tr>\n",
       "      <th>3</th>\n",
       "      <td>4</td>\n",
       "      <td>Rexdale-Kipling</td>\n",
       "      <td>52428</td>\n",
       "      <td>18.8</td>\n",
       "      <td>18.3</td>\n",
       "    </tr>\n",
       "    <tr>\n",
       "      <th>4</th>\n",
       "      <td>5</td>\n",
       "      <td>Elms-Old Rexdale</td>\n",
       "      <td>53779</td>\n",
       "      <td>18.8</td>\n",
       "      <td>10.5</td>\n",
       "    </tr>\n",
       "    <tr>\n",
       "      <th>...</th>\n",
       "      <td>...</td>\n",
       "      <td>...</td>\n",
       "      <td>...</td>\n",
       "      <td>...</td>\n",
       "      <td>...</td>\n",
       "    </tr>\n",
       "    <tr>\n",
       "      <th>135</th>\n",
       "      <td>136</td>\n",
       "      <td>West Hill</td>\n",
       "      <td>46739</td>\n",
       "      <td>17.9</td>\n",
       "      <td>13.1</td>\n",
       "    </tr>\n",
       "    <tr>\n",
       "      <th>136</th>\n",
       "      <td>137</td>\n",
       "      <td>Woburn</td>\n",
       "      <td>49306</td>\n",
       "      <td>28.7</td>\n",
       "      <td>13.8</td>\n",
       "    </tr>\n",
       "    <tr>\n",
       "      <th>137</th>\n",
       "      <td>138</td>\n",
       "      <td>Eglinton East</td>\n",
       "      <td>43934</td>\n",
       "      <td>22.6</td>\n",
       "      <td>12.8</td>\n",
       "    </tr>\n",
       "    <tr>\n",
       "      <th>138</th>\n",
       "      <td>139</td>\n",
       "      <td>Scarborough Village</td>\n",
       "      <td>42417</td>\n",
       "      <td>22.7</td>\n",
       "      <td>13.5</td>\n",
       "    </tr>\n",
       "    <tr>\n",
       "      <th>139</th>\n",
       "      <td>140</td>\n",
       "      <td>Guildwood</td>\n",
       "      <td>75023</td>\n",
       "      <td>31.9</td>\n",
       "      <td>23.8</td>\n",
       "    </tr>\n",
       "  </tbody>\n",
       "</table>\n",
       "<p>140 rows × 5 columns</p>\n",
       "</div>"
      ],
      "text/plain": [
       "     NeighID                         Neigh Name  median_income  uni_degree  \\\n",
       "0          1             West Humber-Clairville          63413        22.9   \n",
       "1          2  Mount Olive-Silverstone-Jamestown          48146        23.6   \n",
       "2          3       Thistletown-Beaumond Heights          55032        20.7   \n",
       "3          4                    Rexdale-Kipling          52428        18.8   \n",
       "4          5                   Elms-Old Rexdale          53779        18.8   \n",
       "..       ...                                ...            ...         ...   \n",
       "135      136                          West Hill          46739        17.9   \n",
       "136      137                             Woburn          49306        28.7   \n",
       "137      138                      Eglinton East          43934        22.6   \n",
       "138      139                Scarborough Village          42417        22.7   \n",
       "139      140                          Guildwood          75023        31.9   \n",
       "\n",
       "     age_65_over  \n",
       "0           11.3  \n",
       "1            8.1  \n",
       "2           16.7  \n",
       "3           18.3  \n",
       "4           10.5  \n",
       "..           ...  \n",
       "135         13.1  \n",
       "136         13.8  \n",
       "137         12.8  \n",
       "138         13.5  \n",
       "139         23.8  \n",
       "\n",
       "[140 rows x 5 columns]"
      ]
     },
     "execution_count": 10,
     "metadata": {},
     "output_type": "execute_result"
    }
   ],
   "source": [
    "socdem_col_names = {socdem_cols[0] : 'NeighID',\n",
    "                    socdem_cols[1] : 'Neigh Name',\n",
    "                    socdem_cols[2] : 'median_income',\n",
    "                    socdem_cols[3] : 'uni_degree',\n",
    "                    socdem_cols[4] : 'age_65_over'}\n",
    "\n",
    "socdem_neighb.rename(columns=socdem_col_names, inplace=True)\n",
    "socdem_neighb"
   ]
  },
  {
   "cell_type": "markdown",
   "metadata": {
    "slideshow": {
     "slide_type": "skip"
    }
   },
   "source": [
    "### Adding quintiles for median income into df ```soc_dem```"
   ]
  },
  {
   "cell_type": "code",
   "execution_count": 11,
   "metadata": {
    "slideshow": {
     "slide_type": "skip"
    }
   },
   "outputs": [
    {
     "data": {
      "text/html": [
       "<div>\n",
       "<style scoped>\n",
       "    .dataframe tbody tr th:only-of-type {\n",
       "        vertical-align: middle;\n",
       "    }\n",
       "\n",
       "    .dataframe tbody tr th {\n",
       "        vertical-align: top;\n",
       "    }\n",
       "\n",
       "    .dataframe thead th {\n",
       "        text-align: right;\n",
       "    }\n",
       "</style>\n",
       "<table border=\"1\" class=\"dataframe\">\n",
       "  <thead>\n",
       "    <tr style=\"text-align: right;\">\n",
       "      <th></th>\n",
       "      <th>NeighID</th>\n",
       "      <th>Neigh Name</th>\n",
       "      <th>median_income</th>\n",
       "      <th>uni_degree</th>\n",
       "      <th>age_65_over</th>\n",
       "      <th>income_quintile</th>\n",
       "    </tr>\n",
       "  </thead>\n",
       "  <tbody>\n",
       "    <tr>\n",
       "      <th>0</th>\n",
       "      <td>1</td>\n",
       "      <td>West Humber-Clairville</td>\n",
       "      <td>63413</td>\n",
       "      <td>22.9</td>\n",
       "      <td>11.3</td>\n",
       "      <td>3</td>\n",
       "    </tr>\n",
       "    <tr>\n",
       "      <th>1</th>\n",
       "      <td>2</td>\n",
       "      <td>Mount Olive-Silverstone-Jamestown</td>\n",
       "      <td>48146</td>\n",
       "      <td>23.6</td>\n",
       "      <td>8.1</td>\n",
       "      <td>1</td>\n",
       "    </tr>\n",
       "    <tr>\n",
       "      <th>2</th>\n",
       "      <td>3</td>\n",
       "      <td>Thistletown-Beaumond Heights</td>\n",
       "      <td>55032</td>\n",
       "      <td>20.7</td>\n",
       "      <td>16.7</td>\n",
       "      <td>2</td>\n",
       "    </tr>\n",
       "    <tr>\n",
       "      <th>3</th>\n",
       "      <td>4</td>\n",
       "      <td>Rexdale-Kipling</td>\n",
       "      <td>52428</td>\n",
       "      <td>18.8</td>\n",
       "      <td>18.3</td>\n",
       "      <td>2</td>\n",
       "    </tr>\n",
       "    <tr>\n",
       "      <th>4</th>\n",
       "      <td>5</td>\n",
       "      <td>Elms-Old Rexdale</td>\n",
       "      <td>53779</td>\n",
       "      <td>18.8</td>\n",
       "      <td>10.5</td>\n",
       "      <td>2</td>\n",
       "    </tr>\n",
       "    <tr>\n",
       "      <th>...</th>\n",
       "      <td>...</td>\n",
       "      <td>...</td>\n",
       "      <td>...</td>\n",
       "      <td>...</td>\n",
       "      <td>...</td>\n",
       "      <td>...</td>\n",
       "    </tr>\n",
       "    <tr>\n",
       "      <th>135</th>\n",
       "      <td>136</td>\n",
       "      <td>West Hill</td>\n",
       "      <td>46739</td>\n",
       "      <td>17.9</td>\n",
       "      <td>13.1</td>\n",
       "      <td>1</td>\n",
       "    </tr>\n",
       "    <tr>\n",
       "      <th>136</th>\n",
       "      <td>137</td>\n",
       "      <td>Woburn</td>\n",
       "      <td>49306</td>\n",
       "      <td>28.7</td>\n",
       "      <td>13.8</td>\n",
       "      <td>1</td>\n",
       "    </tr>\n",
       "    <tr>\n",
       "      <th>137</th>\n",
       "      <td>138</td>\n",
       "      <td>Eglinton East</td>\n",
       "      <td>43934</td>\n",
       "      <td>22.6</td>\n",
       "      <td>12.8</td>\n",
       "      <td>0</td>\n",
       "    </tr>\n",
       "    <tr>\n",
       "      <th>138</th>\n",
       "      <td>139</td>\n",
       "      <td>Scarborough Village</td>\n",
       "      <td>42417</td>\n",
       "      <td>22.7</td>\n",
       "      <td>13.5</td>\n",
       "      <td>0</td>\n",
       "    </tr>\n",
       "    <tr>\n",
       "      <th>139</th>\n",
       "      <td>140</td>\n",
       "      <td>Guildwood</td>\n",
       "      <td>75023</td>\n",
       "      <td>31.9</td>\n",
       "      <td>23.8</td>\n",
       "      <td>4</td>\n",
       "    </tr>\n",
       "  </tbody>\n",
       "</table>\n",
       "<p>140 rows × 6 columns</p>\n",
       "</div>"
      ],
      "text/plain": [
       "     NeighID                         Neigh Name  median_income  uni_degree  \\\n",
       "0          1             West Humber-Clairville          63413        22.9   \n",
       "1          2  Mount Olive-Silverstone-Jamestown          48146        23.6   \n",
       "2          3       Thistletown-Beaumond Heights          55032        20.7   \n",
       "3          4                    Rexdale-Kipling          52428        18.8   \n",
       "4          5                   Elms-Old Rexdale          53779        18.8   \n",
       "..       ...                                ...            ...         ...   \n",
       "135      136                          West Hill          46739        17.9   \n",
       "136      137                             Woburn          49306        28.7   \n",
       "137      138                      Eglinton East          43934        22.6   \n",
       "138      139                Scarborough Village          42417        22.7   \n",
       "139      140                          Guildwood          75023        31.9   \n",
       "\n",
       "     age_65_over  income_quintile  \n",
       "0           11.3                3  \n",
       "1            8.1                1  \n",
       "2           16.7                2  \n",
       "3           18.3                2  \n",
       "4           10.5                2  \n",
       "..           ...              ...  \n",
       "135         13.1                1  \n",
       "136         13.8                1  \n",
       "137         12.8                0  \n",
       "138         13.5                0  \n",
       "139         23.8                4  \n",
       "\n",
       "[140 rows x 6 columns]"
      ]
     },
     "execution_count": 11,
     "metadata": {},
     "output_type": "execute_result"
    }
   ],
   "source": [
    "socdem_neighb['income_quintile'] = pd.qcut(socdem_neighb['median_income'], q=5, labels=False)\n",
    "socdem_neighb"
   ]
  },
  {
   "cell_type": "markdown",
   "metadata": {
    "slideshow": {
     "slide_type": "slide"
    }
   },
   "source": [
    "# Result"
   ]
  },
  {
   "cell_type": "markdown",
   "metadata": {
    "slideshow": {
     "slide_type": "skip"
    }
   },
   "source": [
    "#### Diabetes"
   ]
  },
  {
   "cell_type": "code",
   "execution_count": 12,
   "metadata": {
    "slideshow": {
     "slide_type": "skip"
    }
   },
   "outputs": [
    {
     "data": {
      "text/html": [
       "<div>\n",
       "<style scoped>\n",
       "    .dataframe tbody tr th:only-of-type {\n",
       "        vertical-align: middle;\n",
       "    }\n",
       "\n",
       "    .dataframe tbody tr th {\n",
       "        vertical-align: top;\n",
       "    }\n",
       "\n",
       "    .dataframe thead th {\n",
       "        text-align: right;\n",
       "    }\n",
       "</style>\n",
       "<table border=\"1\" class=\"dataframe\">\n",
       "  <thead>\n",
       "    <tr style=\"text-align: right;\">\n",
       "      <th></th>\n",
       "      <th>NeighID</th>\n",
       "      <th>Name</th>\n",
       "      <th>diabetes_pct</th>\n",
       "      <th>Neigh Name</th>\n",
       "      <th>median_income</th>\n",
       "      <th>uni_degree</th>\n",
       "      <th>age_65_over</th>\n",
       "      <th>income_quintile</th>\n",
       "    </tr>\n",
       "  </thead>\n",
       "  <tbody>\n",
       "    <tr>\n",
       "      <th>0</th>\n",
       "      <td>1</td>\n",
       "      <td>West Humber-Clairville</td>\n",
       "      <td>14.0</td>\n",
       "      <td>West Humber-Clairville</td>\n",
       "      <td>63413</td>\n",
       "      <td>22.9</td>\n",
       "      <td>11.3</td>\n",
       "      <td>3</td>\n",
       "    </tr>\n",
       "    <tr>\n",
       "      <th>1</th>\n",
       "      <td>2</td>\n",
       "      <td>Mount Olive-Silverstone-Jamestown</td>\n",
       "      <td>14.9</td>\n",
       "      <td>Mount Olive-Silverstone-Jamestown</td>\n",
       "      <td>48146</td>\n",
       "      <td>23.6</td>\n",
       "      <td>8.1</td>\n",
       "      <td>1</td>\n",
       "    </tr>\n",
       "    <tr>\n",
       "      <th>2</th>\n",
       "      <td>3</td>\n",
       "      <td>Thistletown-Beaumond Heights</td>\n",
       "      <td>12.0</td>\n",
       "      <td>Thistletown-Beaumond Heights</td>\n",
       "      <td>55032</td>\n",
       "      <td>20.7</td>\n",
       "      <td>16.7</td>\n",
       "      <td>2</td>\n",
       "    </tr>\n",
       "    <tr>\n",
       "      <th>3</th>\n",
       "      <td>4</td>\n",
       "      <td>Rexdale-Kipling</td>\n",
       "      <td>11.9</td>\n",
       "      <td>Rexdale-Kipling</td>\n",
       "      <td>52428</td>\n",
       "      <td>18.8</td>\n",
       "      <td>18.3</td>\n",
       "      <td>2</td>\n",
       "    </tr>\n",
       "    <tr>\n",
       "      <th>4</th>\n",
       "      <td>5</td>\n",
       "      <td>Elms-Old Rexdale</td>\n",
       "      <td>12.7</td>\n",
       "      <td>Elms-Old Rexdale</td>\n",
       "      <td>53779</td>\n",
       "      <td>18.8</td>\n",
       "      <td>10.5</td>\n",
       "      <td>2</td>\n",
       "    </tr>\n",
       "  </tbody>\n",
       "</table>\n",
       "</div>"
      ],
      "text/plain": [
       "   NeighID                               Name  diabetes_pct  \\\n",
       "0        1             West Humber-Clairville          14.0   \n",
       "1        2  Mount Olive-Silverstone-Jamestown          14.9   \n",
       "2        3       Thistletown-Beaumond Heights          12.0   \n",
       "3        4                    Rexdale-Kipling          11.9   \n",
       "4        5                   Elms-Old Rexdale          12.7   \n",
       "\n",
       "                          Neigh Name  median_income  uni_degree  age_65_over  \\\n",
       "0             West Humber-Clairville          63413        22.9         11.3   \n",
       "1  Mount Olive-Silverstone-Jamestown          48146        23.6          8.1   \n",
       "2       Thistletown-Beaumond Heights          55032        20.7         16.7   \n",
       "3                    Rexdale-Kipling          52428        18.8         18.3   \n",
       "4                   Elms-Old Rexdale          53779        18.8         10.5   \n",
       "\n",
       "   income_quintile  \n",
       "0                3  \n",
       "1                1  \n",
       "2                2  \n",
       "3                2  \n",
       "4                2  "
      ]
     },
     "execution_count": 12,
     "metadata": {},
     "output_type": "execute_result"
    }
   ],
   "source": [
    "diabetes_socdem = diabetes_rates.merge(socdem_neighb, on='NeighID')\n",
    "diabetes_socdem.head()"
   ]
  },
  {
   "cell_type": "code",
   "execution_count": 13,
   "metadata": {
    "hide_input": false,
    "slideshow": {
     "slide_type": "skip"
    }
   },
   "outputs": [],
   "source": [
    "sns.pairplot(diabetes_socdem)"
   ]
  },
  {
   "cell_type": "code",
   "execution_count": null,
   "metadata": {
    "slideshow": {
     "slide_type": "skip"
    }
   },
   "outputs": [],
   "source": [
    "reg_diabetes = ols('diabetes_pct ~ median_income + uni_degree + age_65_over', data = diabetes_socdem)   # set up multi regression model\n",
    "reg_diabetes_fit = reg_diabetes.fit() # estimate/fit the model "
   ]
  },
  {
   "cell_type": "code",
   "execution_count": null,
   "metadata": {
    "hide_input": false,
    "slideshow": {
     "slide_type": "skip"
    }
   },
   "outputs": [],
   "source": [
    "reg_diabetes_summary = reg_diabetes_fit.summary()\n",
    "\n",
    "reg_diabetes_summary.tables[1]"
   ]
  },
  {
   "cell_type": "markdown",
   "metadata": {
    "slideshow": {
     "slide_type": "skip"
    }
   },
   "source": [
    "This shows the regression summary of diabetes with sociodemographic variables of concern."
   ]
  },
  {
   "cell_type": "code",
   "execution_count": null,
   "metadata": {
    "slideshow": {
     "slide_type": "skip"
    }
   },
   "outputs": [],
   "source": [
    "reg_diabetes_fit.rsquared"
   ]
  },
  {
   "cell_type": "code",
   "execution_count": null,
   "metadata": {
    "slideshow": {
     "slide_type": "skip"
    }
   },
   "outputs": [],
   "source": [
    "plt.scatter(x = reg_diabetes_fit.fittedvalues , y = reg_diabetes_fit.resid)\n",
    "plt.axhline(y = 0)\n",
    "plt.xlabel('fitted values')\n",
    "plt.ylabel('residuals')"
   ]
  },
  {
   "cell_type": "markdown",
   "metadata": {
    "slideshow": {
     "slide_type": "skip"
    }
   },
   "source": [
    "#### High blood pressure"
   ]
  },
  {
   "cell_type": "code",
   "execution_count": null,
   "metadata": {
    "slideshow": {
     "slide_type": "skip"
    }
   },
   "outputs": [],
   "source": [
    "hbp_neighb = pd.read_excel(\"1_ahd_neighb_db_ast_hbp_mhv_copd_2007.xls\", sheet_name=\"1_ahd_neighb_hbp_2007\", header = 11)\n",
    "hbp_neighb.head()"
   ]
  },
  {
   "cell_type": "code",
   "execution_count": null,
   "metadata": {
    "hide_input": false,
    "slideshow": {
     "slide_type": "skip"
    }
   },
   "outputs": [],
   "source": [
    "hbp_cols = hbp_neighb.columns[[0, 1, 11]]\n",
    "\n",
    "hbp_neighb = hbp_neighb[hbp_cols]\n",
    "hbp_neighb.head()\n"
   ]
  },
  {
   "cell_type": "code",
   "execution_count": null,
   "metadata": {
    "slideshow": {
     "slide_type": "skip"
    }
   },
   "outputs": [],
   "source": [
    "hbp_col_rename = {hbp_cols[0] : 'NeighID',\n",
    "                hbp_cols[1] : 'Name',\n",
    "                hbp_cols[2] : 'hbp_pct'}\n",
    "\n",
    "hbp_rates = hbp_neighb.rename(columns=hbp_col_rename, inplace=False)\n",
    "\n",
    "hbp_rates"
   ]
  },
  {
   "cell_type": "code",
   "execution_count": null,
   "metadata": {
    "slideshow": {
     "slide_type": "skip"
    }
   },
   "outputs": [],
   "source": [
    "hbp_socdem = hbp_rates.merge(socdem_neighb, on='NeighID')\n",
    "hbp_socdem.head()"
   ]
  },
  {
   "cell_type": "code",
   "execution_count": null,
   "metadata": {
    "slideshow": {
     "slide_type": "skip"
    }
   },
   "outputs": [],
   "source": [
    "reg_hbp = ols('hbp_pct ~ median_income + uni_degree + age_65_over', data = hbp_socdem)   # set up multi regression model\n",
    "reg_hbp_fit = reg_hbp.fit() # estimate/fit the model "
   ]
  },
  {
   "cell_type": "code",
   "execution_count": null,
   "metadata": {
    "hide_input": false,
    "slideshow": {
     "slide_type": "skip"
    }
   },
   "outputs": [],
   "source": [
    "reg_hbp_summary = reg_hbp_fit.summary()\n",
    "\n",
    "reg_hbp_summary.tables[1]"
   ]
  },
  {
   "cell_type": "markdown",
   "metadata": {
    "slideshow": {
     "slide_type": "skip"
    }
   },
   "source": [
    "This shows the regression summary between high blood pressure with sociodemographic factors of concern. "
   ]
  },
  {
   "cell_type": "code",
   "execution_count": null,
   "metadata": {
    "slideshow": {
     "slide_type": "skip"
    }
   },
   "outputs": [],
   "source": [
    "reg_hbp_fit.rsquared"
   ]
  },
  {
   "cell_type": "markdown",
   "metadata": {
    "slideshow": {
     "slide_type": "skip"
    }
   },
   "source": [
    "#### Mental health visits"
   ]
  },
  {
   "cell_type": "code",
   "execution_count": null,
   "metadata": {
    "slideshow": {
     "slide_type": "skip"
    }
   },
   "outputs": [],
   "source": [
    "mhv_neighb = pd.read_excel(\"1_ahd_neighb_db_ast_hbp_mhv_copd_2007.xls\", sheet_name=\"1_ahd_neighb_mentalHV_2007\", header = 11)\n",
    "mhv_neighb.head()"
   ]
  },
  {
   "cell_type": "code",
   "execution_count": null,
   "metadata": {
    "slideshow": {
     "slide_type": "skip"
    }
   },
   "outputs": [],
   "source": [
    "mhv_cols = mhv_neighb.columns[[0, 1, 11]]\n",
    "\n",
    "mhv_neighb = mhv_neighb[mhv_cols]\n",
    "mhv_neighb.head()\n"
   ]
  },
  {
   "cell_type": "code",
   "execution_count": null,
   "metadata": {
    "slideshow": {
     "slide_type": "skip"
    }
   },
   "outputs": [],
   "source": [
    "mhv_col_rename = {mhv_cols[0] : 'NeighID',\n",
    "                mhv_cols[1] : 'Name',\n",
    "                mhv_cols[2] : 'mhv_pct'}\n",
    "\n",
    "mhv_rates = mhv_neighb.rename(columns=mhv_col_rename, inplace=False)\n",
    "\n",
    "mhv_rates"
   ]
  },
  {
   "cell_type": "code",
   "execution_count": null,
   "metadata": {
    "hide_input": false,
    "slideshow": {
     "slide_type": "skip"
    }
   },
   "outputs": [],
   "source": [
    "mhv_socdem = mhv_rates.merge(socdem_neighb, on='NeighID')\n",
    "mhv_socdem.head()"
   ]
  },
  {
   "cell_type": "markdown",
   "metadata": {
    "slideshow": {
     "slide_type": "skip"
    }
   },
   "source": [
    "This regression summary shows the relationship between mental health visit and sociodemographic factors of concern. "
   ]
  },
  {
   "cell_type": "code",
   "execution_count": null,
   "metadata": {
    "slideshow": {
     "slide_type": "skip"
    }
   },
   "outputs": [],
   "source": [
    "reg_mhv = ols('mhv_pct ~ median_income + uni_degree + age_65_over', data = mhv_socdem)   # set up multi regression model\n",
    "reg_mhv_fit = reg_mhv.fit() # estimate/fit the model "
   ]
  },
  {
   "cell_type": "code",
   "execution_count": null,
   "metadata": {
    "hide_input": false,
    "slideshow": {
     "slide_type": "skip"
    }
   },
   "outputs": [],
   "source": [
    "reg_mhv_summary = reg_mhv_fit.summary()\n",
    "\n",
    "reg_mhv_summary.tables[1]"
   ]
  },
  {
   "cell_type": "code",
   "execution_count": null,
   "metadata": {
    "slideshow": {
     "slide_type": "skip"
    }
   },
   "outputs": [],
   "source": [
    "reg_mhv_fit.rsquared"
   ]
  },
  {
   "cell_type": "code",
   "execution_count": null,
   "metadata": {
    "slideshow": {
     "slide_type": "skip"
    }
   },
   "outputs": [],
   "source": [
    "main_socdem_neigh = socdem_neighb.copy()\n",
    "\n",
    "diabetes_rate = diabetes_rates.diabetes_pct\n",
    "hbp_rate = hbp_rates.hbp_pct\n",
    "mhv_rate = mhv_rates.mhv_pct\n",
    "\n",
    "main_socdem_neigh = pd.concat([main_socdem_neigh, diabetes_rate, hbp_rate, mhv_rate], axis=1)\n",
    "main_socdem_neigh"
   ]
  },
  {
   "cell_type": "markdown",
   "metadata": {
    "slideshow": {
     "slide_type": "slide"
    }
   },
   "source": [
    "## Regression plots of median income, age over 65 and % with university degree against each disease"
   ]
  },
  {
   "cell_type": "code",
   "execution_count": null,
   "metadata": {
    "hide_input": true,
    "slideshow": {
     "slide_type": "-"
    }
   },
   "outputs": [],
   "source": [
    "\n",
    "fig, ax = plt.subplots(3, 3, figsize=(20, 14))\n",
    "\n",
    "sns.regplot(y = 'diabetes_pct', x = 'median_income', data = diabetes_socdem, ci = None,ax=ax[0][0])\n",
    "sns.regplot(y = 'diabetes_pct', x = 'age_65_over', data = diabetes_socdem, ci = None, ax=ax[0][1])\n",
    "sns.regplot(y = 'diabetes_pct', x = 'uni_degree', data = diabetes_socdem, ci = None, ax=ax[0][2])\n",
    "\n",
    "sns.regplot(y = 'hbp_pct', x = 'median_income', data = hbp_socdem, ci = None, ax=ax[1][0])\n",
    "sns.regplot(y = 'hbp_pct', x = 'age_65_over', data = hbp_socdem, ci = None, ax=ax[1][1])\n",
    "sns.regplot(y = 'hbp_pct', x = 'uni_degree', data = hbp_socdem, ci = None, ax=ax[1][2])\n",
    "\n",
    "sns.regplot(y = 'mhv_pct', x = 'median_income', data = mhv_socdem, ci = None, ax=ax[2][0])\n",
    "sns.regplot(y = 'mhv_pct', x = 'age_65_over', data = mhv_socdem, ci = None, ax=ax[2][1])\n",
    "sns.regplot(y = 'mhv_pct', x = 'uni_degree', data = mhv_socdem, ci = None, ax=ax[2][2])\n",
    "\n",
    "fig.suptitle('Impact of sociodemographic variables on the rate of Diseases', size = 24)\n",
    "fig.supxlabel('Sociodemographic Variable', size = 20)\n",
    "fig.supylabel('Disease', size = 20)\n",
    "fig.tight_layout()\n"
   ]
  },
  {
   "cell_type": "code",
   "execution_count": null,
   "metadata": {
    "hide_input": true,
    "slideshow": {
     "slide_type": "skip"
    }
   },
   "outputs": [],
   "source": [
    "sns.lmplot(x='median_income', y='diabetes_pct', data=main_socdem_neigh, hue= 'income_quintile', fit_reg=False, ci=False)\n",
    "sns.regplot(y = 'diabetes_pct', x = 'median_income', data = diabetes_socdem, ci = None, scatter=False)"
   ]
  },
  {
   "cell_type": "markdown",
   "metadata": {
    "slideshow": {
     "slide_type": "slide"
    }
   },
   "source": [
    "# Conclusion\n",
    "\n",
    "This research concludes that the sociodemographic aspects are not always linked to the general health condition of the person. Different aspects may be linked to the different health conditions per se.\n",
    "\n",
    "This could be a good implication to Toronto community planning that this could be a good implication to Toronto community planning that communities with different socio demographics may impose higher risk in certain kinds of health risk.  \n"
   ]
  }
 ],
 "metadata": {
  "celltoolbar": "Slideshow",
  "interpreter": {
   "hash": "712524a612312a7d2e74200adaff05393734418b6da9f20da2b986048e3f432f"
  },
  "kernelspec": {
   "display_name": "Python 3 (ipykernel)",
   "language": "python",
   "name": "python3"
  },
  "language_info": {
   "codemirror_mode": {
    "name": "ipython",
    "version": 3
   },
   "file_extension": ".py",
   "mimetype": "text/x-python",
   "name": "python",
   "nbconvert_exporter": "python",
   "pygments_lexer": "ipython3",
   "version": "3.9.10"
  }
 },
 "nbformat": 4,
 "nbformat_minor": 2
}
